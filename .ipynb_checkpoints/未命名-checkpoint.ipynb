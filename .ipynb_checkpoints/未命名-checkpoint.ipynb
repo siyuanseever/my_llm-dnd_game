{
 "cells": [
  {
   "cell_type": "code",
   "execution_count": 4,
   "id": "397d225a",
   "metadata": {},
   "outputs": [],
   "source": [
    "from zhipuai import ZhipuAI"
   ]
  },
  {
   "cell_type": "code",
   "execution_count": 99,
   "id": "866b9222",
   "metadata": {
    "scrolled": true
   },
   "outputs": [
    {
     "name": "stdout",
     "output_type": "stream",
     "text": [
      "作为AI地下城主，你的任务是促进一场刺激的《龙与地下城》第五版冒险活动，始终严格遵循规则。协助角色创建或根据玩家偏好生成角色。默认设置是被遗忘的领域，但要根据玩家的愿望进行调整。根据玩家的D&D经验设定难度等级。平衡战斗、谜题和角色扮演，但根据玩家的喜好调整这种混合。如果情节未指定，创造一个引人入胜的故事线。管理经验点数和角色升级。当收到/status命令时，提供当前的经验值、等级、金币和任何条件。在/summary请求时，提供一个战役回顾。在/quests命令下，列出活跃的任务并简要描述。当调用/commands时，详细说明可用的命令。允许玩家选择他们角色的技能、法术、特技和能力，在必要时提供指导。如果玩家在能力检查中失败，通过替代路线引导故事向前发展。不要犹豫在设计机关、挑战性战斗场景和困难决策时设置陷阱。每当需要掷骰子时，告诉玩家该怎么做。你的目标是引导、挑战并适应玩家的行动，以提供一场独特而难忘的冒险。\n",
      "请按照如下json格式用中文回答:\n",
      "{result': str, 'status': str, 'options': list}\n",
      "其中options最多不超过三个选项。\n",
      "\n"
     ]
    }
   ],
   "source": [
    "prompt = '作为AI地下城主，你的任务是促进一场刺激的《龙与地下城》第五版冒险活动，始终严格遵循规则。协助角色创建或根据玩家偏好生成角色。默认设置是被遗忘的领域，但要根据玩家的愿望进行调整。根据玩家的D&D经验设定难度等级。平衡战斗、谜题和角色扮演，但根据玩家的喜好调整这种混合。如果情节未指定，创造一个引人入胜的故事线。管理经验点数和角色升级。当收到/status命令时，提供当前的经验值、等级、金币和任何条件。在/summary请求时，提供一个战役回顾。在/quests命令下，列出活跃的任务并简要描述。当调用/commands时，详细说明可用的命令。允许玩家选择他们角色的技能、法术、特技和能力，在必要时提供指导。如果玩家在能力检查中失败，通过替代路线引导故事向前发展。不要犹豫在设计机关、挑战性战斗场景和困难决策时设置陷阱。每当需要掷骰子时，告诉玩家该怎么做。你的目标是引导、挑战并适应玩家的行动，以提供一场独特而难忘的冒险。'\n",
    "instruction = (\n",
    "    \"请按照如下json格式用中文回答:\\n\"\n",
    "    \"{result': str, 'status': str, 'options': list}\\n\"\n",
    "    \"其中options最多不超过三个选项。\\n\"\n",
    ")\n",
    "\n",
    "print(prompt)\n",
    "print(instruction)"
   ]
  },
  {
   "cell_type": "code",
   "execution_count": 100,
   "id": "4189cb13",
   "metadata": {},
   "outputs": [],
   "source": [
    "def chat(query:str, history:list=[]):\n",
    "    client = ZhipuAI(api_key=\"5c43d4873ee6d67c69c195fc86b5872f.581qTcuFl6ezdTcj\") # 填写您自己的APIKey\n",
    "    \n",
    "    messages = history\n",
    "    messages.append({\"role\": \"user\", \"content\": query})\n",
    "    \n",
    "    response = client.chat.completions.create(\n",
    "        model=\"glm-4\",  # 填写需要调用的模型名称\n",
    "        messages=messages\n",
    "    )\n",
    "    \n",
    "    answer = response.choices[0].message.content\n",
    "    history = messages + {\n",
    "        \"role\": response.choices[0].message.user,\n",
    "        \"content\": response.choices[0].message.content,\n",
    "    }\n",
    "    return history, answer"
   ]
  },
  {
   "cell_type": "code",
   "execution_count": null,
   "id": "5204d662",
   "metadata": {},
   "outputs": [],
   "source": [
    "history = [\n",
    "    {\"role\": \"user\", \"content\": prompt+instruction}\n",
    "]\n",
    "choice = '开始'\n",
    "\n",
    "while True:\n",
    "    retry_num = 0\n",
    "    while retry_num < 5:\n",
    "        try:\n",
    "            history, answer = chat(choice, history)\n",
    "            result_json = eval(answer)\n",
    "\n",
    "            break\n",
    "        except:\n",
    "            retry_num += 1\n",
    "\n",
    "    options = result_json['options']\n",
    "    \n",
    "    # show\n",
    "    text = ''\n",
    "    for key in ['result', 'status']:\n",
    "        text += f'{key}: {result_json[key]}\\n'\n",
    "    text += 'options: \\n'\n",
    "    for i, o in enumerate(options):\n",
    "        text += f'\\t{i}: {o}\\n'\n",
    "    text += f'\\t*: 输入其它任意决策'\n",
    "    print(text)\n",
    "\n",
    "    # choice\n",
    "    choice = input('choice number or other option')\n",
    "    if is_convertible_to_int(choice) and 0 < int(choice) < len(options):\n",
    "        choice = options[int(choice)]\n",
    "    print(choice)"
   ]
  },
  {
   "cell_type": "code",
   "execution_count": 90,
   "id": "efb0ccaf",
   "metadata": {},
   "outputs": [],
   "source": [
    "def is_convertible_to_int(s):\n",
    "    try:\n",
    "        int(s)\n",
    "        return True\n",
    "    except ValueError:\n",
    "        return False\n"
   ]
  }
 ],
 "metadata": {
  "kernelspec": {
   "display_name": "Python 3 (ipykernel)",
   "language": "python",
   "name": "python3"
  },
  "language_info": {
   "codemirror_mode": {
    "name": "ipython",
    "version": 3
   },
   "file_extension": ".py",
   "mimetype": "text/x-python",
   "name": "python",
   "nbconvert_exporter": "python",
   "pygments_lexer": "ipython3",
   "version": "3.10.11"
  },
  "toc": {
   "base_numbering": 1,
   "nav_menu": {},
   "number_sections": true,
   "sideBar": true,
   "skip_h1_title": false,
   "title_cell": "Table of Contents",
   "title_sidebar": "Contents",
   "toc_cell": false,
   "toc_position": {},
   "toc_section_display": true,
   "toc_window_display": false
  }
 },
 "nbformat": 4,
 "nbformat_minor": 5
}
